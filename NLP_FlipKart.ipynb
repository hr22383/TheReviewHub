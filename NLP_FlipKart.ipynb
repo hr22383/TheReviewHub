{
  "nbformat": 4,
  "nbformat_minor": 0,
  "metadata": {
    "colab": {
      "provenance": []
    },
    "kernelspec": {
      "name": "python3",
      "display_name": "Python 3"
    },
    "language_info": {
      "name": "python"
    }
  },
  "cells": [
    {
      "cell_type": "code",
      "execution_count": 1,
      "metadata": {
        "id": "Fwm0vC7WaHK4"
      },
      "outputs": [],
      "source": [
        "import pandas as pd\n",
        "import matplotlib.pyplot as plt\n",
        "from sklearn.feature_extraction.text import TfidfVectorizer\n",
        "from sklearn.linear_model import LinearRegression\n",
        "from sklearn.metrics import mean_squared_error, accuracy_score\n",
        "from nltk.sentiment import SentimentIntensityAnalyzer\n",
        "import re\n",
        "from nltk.stem import WordNetLemmatizer"
      ]
    },
    {
      "cell_type": "code",
      "source": [
        "# Function to clean the text\n",
        "def clean_text(text):\n",
        "    # Convert to lowercase\n",
        "    text = text.lower()\n",
        "    # Remove punctuation and special characters\n",
        "    text = re.sub(r'[^\\w\\s]', '', text)\n",
        "    # Tokenize the text\n",
        "    tokens = nltk.word_tokenize(text)\n",
        "    # Remove stopwords\n",
        "    stop_words = set(stopwords.words('english'))\n",
        "    tokens = [token for token in tokens if token not in stop_words]\n",
        "    # Lemmatize the tokens\n",
        "    lemmatizer = WordNetLemmatizer()\n",
        "    tokens = [lemmatizer.lemmatize(token) for token in tokens]\n",
        "    # Join the tokens back into a single string\n",
        "    cleaned_text = ' '.join(tokens)\n",
        "    return cleaned_text"
      ],
      "metadata": {
        "id": "jCZVVxW7uz54"
      },
      "execution_count": 2,
      "outputs": []
    },
    {
      "cell_type": "code",
      "source": [
        "import nltk\n",
        "nltk.download('punkt')\n"
      ],
      "metadata": {
        "colab": {
          "base_uri": "https://localhost:8080/"
        },
        "id": "ByEVvmv_vU6P",
        "outputId": "fab4b354-f043-4641-d5b6-40d25017103d"
      },
      "execution_count": null,
      "outputs": [
        {
          "output_type": "stream",
          "name": "stderr",
          "text": [
            "[nltk_data] Downloading package punkt to /root/nltk_data...\n",
            "[nltk_data]   Unzipping tokenizers/punkt.zip.\n"
          ]
        },
        {
          "output_type": "execute_result",
          "data": {
            "text/plain": [
              "True"
            ]
          },
          "metadata": {},
          "execution_count": 37
        }
      ]
    },
    {
      "cell_type": "code",
      "source": [
        "import nltk\n",
        "nltk.download('stopwords')\n"
      ],
      "metadata": {
        "colab": {
          "base_uri": "https://localhost:8080/"
        },
        "id": "mYu4LTzjvpCH",
        "outputId": "4ce3aade-342a-4db1-de88-bfb86ee7ca84"
      },
      "execution_count": null,
      "outputs": [
        {
          "output_type": "stream",
          "name": "stderr",
          "text": [
            "[nltk_data] Downloading package stopwords to /root/nltk_data...\n",
            "[nltk_data]   Unzipping corpora/stopwords.zip.\n"
          ]
        },
        {
          "output_type": "execute_result",
          "data": {
            "text/plain": [
              "True"
            ]
          },
          "metadata": {},
          "execution_count": 42
        }
      ]
    },
    {
      "cell_type": "code",
      "source": [
        "import nltk\n",
        "nltk.download('wordnet')"
      ],
      "metadata": {
        "colab": {
          "base_uri": "https://localhost:8080/"
        },
        "id": "zC0cl8aWv320",
        "outputId": "adc67488-56a8-4e25-a09c-3f8088078dd5"
      },
      "execution_count": null,
      "outputs": [
        {
          "output_type": "stream",
          "name": "stderr",
          "text": [
            "[nltk_data] Downloading package wordnet to /root/nltk_data...\n"
          ]
        },
        {
          "output_type": "execute_result",
          "data": {
            "text/plain": [
              "True"
            ]
          },
          "metadata": {},
          "execution_count": 47
        }
      ]
    },
    {
      "cell_type": "code",
      "source": [
        "from nltk.corpus import stopwords"
      ],
      "metadata": {
        "id": "ThXEpykvveRF"
      },
      "execution_count": null,
      "outputs": []
    },
    {
      "cell_type": "code",
      "source": [
        "# Load the dataset\n",
        "df = pd.read_csv('/content/drive/MyDrive/NLPFinal/flipkart_data.csv')  # Replace 'TestFile.csv' with your dataset file path\n",
        "df_train = df[:9000]\n",
        "df_test = df[9000:10000]\n",
        "df.head()"
      ],
      "metadata": {
        "colab": {
          "base_uri": "https://localhost:8080/",
          "height": 206
        },
        "id": "Loq9Kw78aZsU",
        "outputId": "3158f963-3572-4f4b-9618-c4a56ba77661"
      },
      "execution_count": null,
      "outputs": [
        {
          "output_type": "execute_result",
          "data": {
            "text/plain": [
              "                                              review  rating\n",
              "0  It was nice produt. I like it's design a lot. ...       5\n",
              "1  awesome sound....very pretty to see this nd th...       5\n",
              "2  awesome sound quality. pros 7-8 hrs of battery...       4\n",
              "3  I think it is such a good product not only as ...       5\n",
              "4  awesome bass sound quality very good bettary l...       5"
            ],
            "text/html": [
              "\n",
              "  <div id=\"df-e17bd640-3ba1-4cf0-8063-d3526ad0f3b4\">\n",
              "    <div class=\"colab-df-container\">\n",
              "      <div>\n",
              "<style scoped>\n",
              "    .dataframe tbody tr th:only-of-type {\n",
              "        vertical-align: middle;\n",
              "    }\n",
              "\n",
              "    .dataframe tbody tr th {\n",
              "        vertical-align: top;\n",
              "    }\n",
              "\n",
              "    .dataframe thead th {\n",
              "        text-align: right;\n",
              "    }\n",
              "</style>\n",
              "<table border=\"1\" class=\"dataframe\">\n",
              "  <thead>\n",
              "    <tr style=\"text-align: right;\">\n",
              "      <th></th>\n",
              "      <th>review</th>\n",
              "      <th>rating</th>\n",
              "    </tr>\n",
              "  </thead>\n",
              "  <tbody>\n",
              "    <tr>\n",
              "      <th>0</th>\n",
              "      <td>It was nice produt. I like it's design a lot. ...</td>\n",
              "      <td>5</td>\n",
              "    </tr>\n",
              "    <tr>\n",
              "      <th>1</th>\n",
              "      <td>awesome sound....very pretty to see this nd th...</td>\n",
              "      <td>5</td>\n",
              "    </tr>\n",
              "    <tr>\n",
              "      <th>2</th>\n",
              "      <td>awesome sound quality. pros 7-8 hrs of battery...</td>\n",
              "      <td>4</td>\n",
              "    </tr>\n",
              "    <tr>\n",
              "      <th>3</th>\n",
              "      <td>I think it is such a good product not only as ...</td>\n",
              "      <td>5</td>\n",
              "    </tr>\n",
              "    <tr>\n",
              "      <th>4</th>\n",
              "      <td>awesome bass sound quality very good bettary l...</td>\n",
              "      <td>5</td>\n",
              "    </tr>\n",
              "  </tbody>\n",
              "</table>\n",
              "</div>\n",
              "      <button class=\"colab-df-convert\" onclick=\"convertToInteractive('df-e17bd640-3ba1-4cf0-8063-d3526ad0f3b4')\"\n",
              "              title=\"Convert this dataframe to an interactive table.\"\n",
              "              style=\"display:none;\">\n",
              "        \n",
              "  <svg xmlns=\"http://www.w3.org/2000/svg\" height=\"24px\"viewBox=\"0 0 24 24\"\n",
              "       width=\"24px\">\n",
              "    <path d=\"M0 0h24v24H0V0z\" fill=\"none\"/>\n",
              "    <path d=\"M18.56 5.44l.94 2.06.94-2.06 2.06-.94-2.06-.94-.94-2.06-.94 2.06-2.06.94zm-11 1L8.5 8.5l.94-2.06 2.06-.94-2.06-.94L8.5 2.5l-.94 2.06-2.06.94zm10 10l.94 2.06.94-2.06 2.06-.94-2.06-.94-.94-2.06-.94 2.06-2.06.94z\"/><path d=\"M17.41 7.96l-1.37-1.37c-.4-.4-.92-.59-1.43-.59-.52 0-1.04.2-1.43.59L10.3 9.45l-7.72 7.72c-.78.78-.78 2.05 0 2.83L4 21.41c.39.39.9.59 1.41.59.51 0 1.02-.2 1.41-.59l7.78-7.78 2.81-2.81c.8-.78.8-2.07 0-2.86zM5.41 20L4 18.59l7.72-7.72 1.47 1.35L5.41 20z\"/>\n",
              "  </svg>\n",
              "      </button>\n",
              "      \n",
              "  <style>\n",
              "    .colab-df-container {\n",
              "      display:flex;\n",
              "      flex-wrap:wrap;\n",
              "      gap: 12px;\n",
              "    }\n",
              "\n",
              "    .colab-df-convert {\n",
              "      background-color: #E8F0FE;\n",
              "      border: none;\n",
              "      border-radius: 50%;\n",
              "      cursor: pointer;\n",
              "      display: none;\n",
              "      fill: #1967D2;\n",
              "      height: 32px;\n",
              "      padding: 0 0 0 0;\n",
              "      width: 32px;\n",
              "    }\n",
              "\n",
              "    .colab-df-convert:hover {\n",
              "      background-color: #E2EBFA;\n",
              "      box-shadow: 0px 1px 2px rgba(60, 64, 67, 0.3), 0px 1px 3px 1px rgba(60, 64, 67, 0.15);\n",
              "      fill: #174EA6;\n",
              "    }\n",
              "\n",
              "    [theme=dark] .colab-df-convert {\n",
              "      background-color: #3B4455;\n",
              "      fill: #D2E3FC;\n",
              "    }\n",
              "\n",
              "    [theme=dark] .colab-df-convert:hover {\n",
              "      background-color: #434B5C;\n",
              "      box-shadow: 0px 1px 3px 1px rgba(0, 0, 0, 0.15);\n",
              "      filter: drop-shadow(0px 1px 2px rgba(0, 0, 0, 0.3));\n",
              "      fill: #FFFFFF;\n",
              "    }\n",
              "  </style>\n",
              "\n",
              "      <script>\n",
              "        const buttonEl =\n",
              "          document.querySelector('#df-e17bd640-3ba1-4cf0-8063-d3526ad0f3b4 button.colab-df-convert');\n",
              "        buttonEl.style.display =\n",
              "          google.colab.kernel.accessAllowed ? 'block' : 'none';\n",
              "\n",
              "        async function convertToInteractive(key) {\n",
              "          const element = document.querySelector('#df-e17bd640-3ba1-4cf0-8063-d3526ad0f3b4');\n",
              "          const dataTable =\n",
              "            await google.colab.kernel.invokeFunction('convertToInteractive',\n",
              "                                                     [key], {});\n",
              "          if (!dataTable) return;\n",
              "\n",
              "          const docLinkHtml = 'Like what you see? Visit the ' +\n",
              "            '<a target=\"_blank\" href=https://colab.research.google.com/notebooks/data_table.ipynb>data table notebook</a>'\n",
              "            + ' to learn more about interactive tables.';\n",
              "          element.innerHTML = '';\n",
              "          dataTable['output_type'] = 'display_data';\n",
              "          await google.colab.output.renderOutput(dataTable, element);\n",
              "          const docLink = document.createElement('div');\n",
              "          docLink.innerHTML = docLinkHtml;\n",
              "          element.appendChild(docLink);\n",
              "        }\n",
              "      </script>\n",
              "    </div>\n",
              "  </div>\n",
              "  "
            ]
          },
          "metadata": {},
          "execution_count": 38
        }
      ]
    },
    {
      "cell_type": "code",
      "source": [
        "# Apply the clean_text function to the 'review' column in the training set\n",
        "df_train['review'] = df_train['review'].apply(clean_text)\n",
        "\n",
        "# Apply the clean_text function to the 'review' column in the testing set\n",
        "df_test['review'] = df_test['review'].apply(clean_text)"
      ],
      "metadata": {
        "colab": {
          "base_uri": "https://localhost:8080/"
        },
        "id": "nlCrsyDJu8Qm",
        "outputId": "48f5f0a3-64df-4936-8bb7-1ce87edc8def"
      },
      "execution_count": null,
      "outputs": [
        {
          "output_type": "stream",
          "name": "stderr",
          "text": [
            "<ipython-input-48-28d247f70c4b>:2: SettingWithCopyWarning: \n",
            "A value is trying to be set on a copy of a slice from a DataFrame.\n",
            "Try using .loc[row_indexer,col_indexer] = value instead\n",
            "\n",
            "See the caveats in the documentation: https://pandas.pydata.org/pandas-docs/stable/user_guide/indexing.html#returning-a-view-versus-a-copy\n",
            "  df_train['review'] = df_train['review'].apply(clean_text)\n",
            "<ipython-input-48-28d247f70c4b>:5: SettingWithCopyWarning: \n",
            "A value is trying to be set on a copy of a slice from a DataFrame.\n",
            "Try using .loc[row_indexer,col_indexer] = value instead\n",
            "\n",
            "See the caveats in the documentation: https://pandas.pydata.org/pandas-docs/stable/user_guide/indexing.html#returning-a-view-versus-a-copy\n",
            "  df_test['review'] = df_test['review'].apply(clean_text)\n"
          ]
        }
      ]
    },
    {
      "cell_type": "code",
      "source": [
        "# Print the count of each rating in the training set\n",
        "rating_count_train = df_train['rating'].value_counts()\n",
        "print(\"Rating count in training set:\")\n",
        "for rating, count in rating_count_train.items():\n",
        "    print(f\"{rating} rating - {count}\")"
      ],
      "metadata": {
        "colab": {
          "base_uri": "https://localhost:8080/"
        },
        "id": "9wHG94SwrP5D",
        "outputId": "39ca9d3b-1db0-4ff8-d9f5-1bca8ca88cc6"
      },
      "execution_count": null,
      "outputs": [
        {
          "output_type": "stream",
          "name": "stdout",
          "text": [
            "Rating count in training set:\n",
            "5 rating - 5137\n",
            "4 rating - 2155\n",
            "3 rating - 801\n",
            "1 rating - 630\n",
            "2 rating - 277\n"
          ]
        }
      ]
    },
    {
      "cell_type": "code",
      "source": [
        "# Print the count of each rating in the testing set\n",
        "rating_count_test = df_test['rating'].value_counts()\n",
        "print(\"Rating count in testing set:\")\n",
        "for rating, count in rating_count_test.items():\n",
        "    print(f\"{rating} rating - {count}\")"
      ],
      "metadata": {
        "colab": {
          "base_uri": "https://localhost:8080/"
        },
        "id": "f_QZ6vFOrXEZ",
        "outputId": "34d870a8-f97e-4f7c-a969-3e878d3d5f0f"
      },
      "execution_count": null,
      "outputs": [
        {
          "output_type": "stream",
          "name": "stdout",
          "text": [
            "Rating count in testing set:\n",
            "5 rating - 589\n",
            "4 rating - 210\n",
            "3 rating - 83\n",
            "1 rating - 61\n",
            "2 rating - 33\n"
          ]
        }
      ]
    },
    {
      "cell_type": "code",
      "source": [
        "# Text vectorization using TF-IDF\n",
        "vectorizer = TfidfVectorizer()\n",
        "X_train = vectorizer.fit_transform(df_train['review'])\n",
        "y_train = df_train['rating']\n",
        "\n",
        "X_test = vectorizer.transform(df_test['review'])\n",
        "y_test = df_test['rating']"
      ],
      "metadata": {
        "id": "mGlELKfgal6Z"
      },
      "execution_count": null,
      "outputs": []
    },
    {
      "cell_type": "code",
      "source": [
        "# Model training\n",
        "model = LinearRegression()\n",
        "model.fit(X_train, y_train)"
      ],
      "metadata": {
        "colab": {
          "base_uri": "https://localhost:8080/",
          "height": 76
        },
        "id": "xfJNFkkSanhY",
        "outputId": "65cd605b-1f87-44f4-d796-afd0d95b3052"
      },
      "execution_count": null,
      "outputs": [
        {
          "output_type": "execute_result",
          "data": {
            "text/plain": [
              "LinearRegression()"
            ],
            "text/html": [
              "<style>#sk-container-id-2 {color: black;background-color: white;}#sk-container-id-2 pre{padding: 0;}#sk-container-id-2 div.sk-toggleable {background-color: white;}#sk-container-id-2 label.sk-toggleable__label {cursor: pointer;display: block;width: 100%;margin-bottom: 0;padding: 0.3em;box-sizing: border-box;text-align: center;}#sk-container-id-2 label.sk-toggleable__label-arrow:before {content: \"▸\";float: left;margin-right: 0.25em;color: #696969;}#sk-container-id-2 label.sk-toggleable__label-arrow:hover:before {color: black;}#sk-container-id-2 div.sk-estimator:hover label.sk-toggleable__label-arrow:before {color: black;}#sk-container-id-2 div.sk-toggleable__content {max-height: 0;max-width: 0;overflow: hidden;text-align: left;background-color: #f0f8ff;}#sk-container-id-2 div.sk-toggleable__content pre {margin: 0.2em;color: black;border-radius: 0.25em;background-color: #f0f8ff;}#sk-container-id-2 input.sk-toggleable__control:checked~div.sk-toggleable__content {max-height: 200px;max-width: 100%;overflow: auto;}#sk-container-id-2 input.sk-toggleable__control:checked~label.sk-toggleable__label-arrow:before {content: \"▾\";}#sk-container-id-2 div.sk-estimator input.sk-toggleable__control:checked~label.sk-toggleable__label {background-color: #d4ebff;}#sk-container-id-2 div.sk-label input.sk-toggleable__control:checked~label.sk-toggleable__label {background-color: #d4ebff;}#sk-container-id-2 input.sk-hidden--visually {border: 0;clip: rect(1px 1px 1px 1px);clip: rect(1px, 1px, 1px, 1px);height: 1px;margin: -1px;overflow: hidden;padding: 0;position: absolute;width: 1px;}#sk-container-id-2 div.sk-estimator {font-family: monospace;background-color: #f0f8ff;border: 1px dotted black;border-radius: 0.25em;box-sizing: border-box;margin-bottom: 0.5em;}#sk-container-id-2 div.sk-estimator:hover {background-color: #d4ebff;}#sk-container-id-2 div.sk-parallel-item::after {content: \"\";width: 100%;border-bottom: 1px solid gray;flex-grow: 1;}#sk-container-id-2 div.sk-label:hover label.sk-toggleable__label {background-color: #d4ebff;}#sk-container-id-2 div.sk-serial::before {content: \"\";position: absolute;border-left: 1px solid gray;box-sizing: border-box;top: 0;bottom: 0;left: 50%;z-index: 0;}#sk-container-id-2 div.sk-serial {display: flex;flex-direction: column;align-items: center;background-color: white;padding-right: 0.2em;padding-left: 0.2em;position: relative;}#sk-container-id-2 div.sk-item {position: relative;z-index: 1;}#sk-container-id-2 div.sk-parallel {display: flex;align-items: stretch;justify-content: center;background-color: white;position: relative;}#sk-container-id-2 div.sk-item::before, #sk-container-id-2 div.sk-parallel-item::before {content: \"\";position: absolute;border-left: 1px solid gray;box-sizing: border-box;top: 0;bottom: 0;left: 50%;z-index: -1;}#sk-container-id-2 div.sk-parallel-item {display: flex;flex-direction: column;z-index: 1;position: relative;background-color: white;}#sk-container-id-2 div.sk-parallel-item:first-child::after {align-self: flex-end;width: 50%;}#sk-container-id-2 div.sk-parallel-item:last-child::after {align-self: flex-start;width: 50%;}#sk-container-id-2 div.sk-parallel-item:only-child::after {width: 0;}#sk-container-id-2 div.sk-dashed-wrapped {border: 1px dashed gray;margin: 0 0.4em 0.5em 0.4em;box-sizing: border-box;padding-bottom: 0.4em;background-color: white;}#sk-container-id-2 div.sk-label label {font-family: monospace;font-weight: bold;display: inline-block;line-height: 1.2em;}#sk-container-id-2 div.sk-label-container {text-align: center;}#sk-container-id-2 div.sk-container {/* jupyter's `normalize.less` sets `[hidden] { display: none; }` but bootstrap.min.css set `[hidden] { display: none !important; }` so we also need the `!important` here to be able to override the default hidden behavior on the sphinx rendered scikit-learn.org. See: https://github.com/scikit-learn/scikit-learn/issues/21755 */display: inline-block !important;position: relative;}#sk-container-id-2 div.sk-text-repr-fallback {display: none;}</style><div id=\"sk-container-id-2\" class=\"sk-top-container\"><div class=\"sk-text-repr-fallback\"><pre>LinearRegression()</pre><b>In a Jupyter environment, please rerun this cell to show the HTML representation or trust the notebook. <br />On GitHub, the HTML representation is unable to render, please try loading this page with nbviewer.org.</b></div><div class=\"sk-container\" hidden><div class=\"sk-item\"><div class=\"sk-estimator sk-toggleable\"><input class=\"sk-toggleable__control sk-hidden--visually\" id=\"sk-estimator-id-2\" type=\"checkbox\" checked><label for=\"sk-estimator-id-2\" class=\"sk-toggleable__label sk-toggleable__label-arrow\">LinearRegression</label><div class=\"sk-toggleable__content\"><pre>LinearRegression()</pre></div></div></div></div></div>"
            ]
          },
          "metadata": {},
          "execution_count": 52
        }
      ]
    },
    {
      "cell_type": "code",
      "source": [
        "# Model evaluation\n",
        "y_pred_train = model.predict(X_train)\n",
        "mse_train = mean_squared_error(y_train, y_pred_train)"
      ],
      "metadata": {
        "id": "zS2xSO40aqW5"
      },
      "execution_count": null,
      "outputs": []
    },
    {
      "cell_type": "code",
      "source": [
        "y_pred_test = model.predict(X_test)\n",
        "mse_test = mean_squared_error(y_test, y_pred_test)"
      ],
      "metadata": {
        "id": "qF3Eqx1AatTJ"
      },
      "execution_count": null,
      "outputs": []
    },
    {
      "cell_type": "code",
      "source": [
        "# Create a dataframe to display the predictions for training set\n",
        "results_train = pd.DataFrame({'review': df_train['review'], 'Actual Rating': y_train, 'Predicted Rating': y_pred_train})\n",
        "\n",
        "# Create a dataframe to display the predictions for testing set\n",
        "results_test = pd.DataFrame({'review': df_test['review'], 'Actual Rating': y_test, 'Predicted Rating': y_pred_test})"
      ],
      "metadata": {
        "id": "87NQJfr0av7Z"
      },
      "execution_count": null,
      "outputs": []
    },
    {
      "cell_type": "code",
      "source": [
        "import nltk\n",
        "\n",
        "nltk.download('vader_lexicon')"
      ],
      "metadata": {
        "colab": {
          "base_uri": "https://localhost:8080/"
        },
        "id": "J-pIfrv1a_1x",
        "outputId": "68916df6-9aeb-4f4f-c26b-c8eba22559e1"
      },
      "execution_count": null,
      "outputs": [
        {
          "output_type": "stream",
          "name": "stderr",
          "text": [
            "[nltk_data] Downloading package vader_lexicon to /root/nltk_data...\n",
            "[nltk_data]   Package vader_lexicon is already up-to-date!\n"
          ]
        },
        {
          "output_type": "execute_result",
          "data": {
            "text/plain": [
              "True"
            ]
          },
          "metadata": {},
          "execution_count": 56
        }
      ]
    },
    {
      "cell_type": "code",
      "source": [
        "# Initialize the VADER sentiment intensity analyzer\n",
        "sia = SentimentIntensityAnalyzer()\n",
        "\n",
        "# Calculate the sentiment scores for each review in the training set\n",
        "sentiment_scores_train = df_train['review'].apply(lambda review: sia.polarity_scores(review))\n",
        "\n",
        "# Extract the compound sentiment score from the sentiment scores\n",
        "sentiment_scores_train = sentiment_scores_train.apply(lambda scores: scores['compound'])\n",
        "\n",
        "# Assign sentiment labels based on the compound scores for training set\n",
        "df_train['sentiment'] = sentiment_scores_train.apply(lambda score: 'positive' if score >= 0 else 'negative')\n",
        "\n",
        "# Add the sentiment column to the training results dataframe\n",
        "results_train['Sentiment'] = df_train['sentiment']\n",
        "\n",
        "# Calculate the sentiment scores for each review in the testing set\n",
        "sentiment_scores_test = df_test['review'].apply(lambda review: sia.polarity_scores(review))\n",
        "\n",
        "# Extract the compound sentiment score from the sentiment scores\n",
        "sentiment_scores_test = sentiment_scores_test.apply(lambda scores: scores['compound'])\n",
        "\n",
        "# Assign sentiment labels based on the compound scores for testing set\n",
        "df_test['sentiment'] = sentiment_scores_test.apply(lambda score: 'positive' if score >= 0 else 'negative')\n",
        "\n",
        "# Add the sentiment column to the testing results dataframe\n",
        "results_test['Sentiment'] = df_test['sentiment']"
      ],
      "metadata": {
        "colab": {
          "base_uri": "https://localhost:8080/"
        },
        "id": "3K280qc7a08a",
        "outputId": "7e8eb5bf-c5b2-4b27-f9d8-387d2d076865"
      },
      "execution_count": null,
      "outputs": [
        {
          "output_type": "stream",
          "name": "stderr",
          "text": [
            "<ipython-input-57-5561f1ea63b4>:11: SettingWithCopyWarning: \n",
            "A value is trying to be set on a copy of a slice from a DataFrame.\n",
            "Try using .loc[row_indexer,col_indexer] = value instead\n",
            "\n",
            "See the caveats in the documentation: https://pandas.pydata.org/pandas-docs/stable/user_guide/indexing.html#returning-a-view-versus-a-copy\n",
            "  df_train['sentiment'] = sentiment_scores_train.apply(lambda score: 'positive' if score >= 0 else 'negative')\n",
            "<ipython-input-57-5561f1ea63b4>:23: SettingWithCopyWarning: \n",
            "A value is trying to be set on a copy of a slice from a DataFrame.\n",
            "Try using .loc[row_indexer,col_indexer] = value instead\n",
            "\n",
            "See the caveats in the documentation: https://pandas.pydata.org/pandas-docs/stable/user_guide/indexing.html#returning-a-view-versus-a-copy\n",
            "  df_test['sentiment'] = sentiment_scores_test.apply(lambda score: 'positive' if score >= 0 else 'negative')\n"
          ]
        }
      ]
    },
    {
      "cell_type": "code",
      "source": [
        "# Define a threshold for positive/negative sentiment classification\n",
        "threshold = 0.5\n",
        "\n",
        "# Classify the predicted ratings based on the threshold\n",
        "results_test['Predicted Sentiment'] = results_test['Predicted Rating'].apply(lambda rating: 'positive' if rating >= threshold else 'negative')\n",
        "\n",
        "# Calculate accuracy for sentiment prediction\n",
        "accuracy = accuracy_score(results_test['Sentiment'], results_test['Predicted Sentiment'])"
      ],
      "metadata": {
        "id": "B2Ry5RwrbGqZ"
      },
      "execution_count": null,
      "outputs": []
    },
    {
      "cell_type": "code",
      "source": [
        "# Calculate correlation between sentiment and predicted rating for testing set\n",
        "correlation = results_test['Sentiment'].replace({'positive': 1, 'negative': 0}).astype(int).corr(results_test['Predicted Rating'])\n",
        "print(\"Correlation between Sentiment and Predicted Rating (Testing Set):\", correlation)\n",
        "\n",
        "# Print the mean squared errors\n",
        "print(\"Mean Squared Error (Training Set):\", mse_train)\n",
        "print(\"Mean Squared Error (Testing Set):\", mse_test)\n",
        "\n",
        "# Print accuracy\n",
        "print(\"Accuracy:\", accuracy)\n"
      ],
      "metadata": {
        "colab": {
          "base_uri": "https://localhost:8080/"
        },
        "id": "08oVLGkKbNUa",
        "outputId": "3c1af7be-8e36-4503-ec65-7e334f271880"
      },
      "execution_count": null,
      "outputs": [
        {
          "output_type": "stream",
          "name": "stdout",
          "text": [
            "Correlation between Sentiment and Predicted Rating (Testing Set): 0.30275154079963346\n",
            "Mean Squared Error (Training Set): 0.23225695100169913\n",
            "Mean Squared Error (Testing Set): 1.7697835498653682\n",
            "Accuracy: 0.9159836065573771\n"
          ]
        }
      ]
    },
    {
      "cell_type": "code",
      "source": [
        "import matplotlib.pyplot as plt\n",
        "\n",
        "# Collect accuracy values for different experiments or iterations\n",
        "accuracy_values = [0.75, 0.82, 0.88, 0.91, 0.89]  # Replace with your actual accuracy values\n",
        "\n",
        "# Plotting the accuracy graph\n",
        "plt.plot(range(1, len(accuracy_values) + 1), accuracy_values, marker='o')\n",
        "plt.xlabel('Experiment')\n",
        "plt.ylabel('Accuracy')\n",
        "plt.title('Accuracy Graph')\n",
        "plt.grid(True)\n",
        "plt.show()\n"
      ],
      "metadata": {
        "colab": {
          "base_uri": "https://localhost:8080/",
          "height": 472
        },
        "id": "nqPbHZr4qXxX",
        "outputId": "50d13154-3bbb-43a6-9e71-900d8efc5fd6"
      },
      "execution_count": null,
      "outputs": [
        {
          "output_type": "display_data",
          "data": {
            "text/plain": [
              "<Figure size 640x480 with 1 Axes>"
            ],
            "image/png": "[encoded data removed]"
          },
          "metadata": {}
        }
      ]
    },
    {
      "cell_type": "code",
      "source": [
        "# Display the number of rows and columns in the results dataframes\n",
        "num_rows_train, num_cols_train = results_train.shape\n",
        "print(\"Number of rows (Training Set):\", num_rows_train)\n",
        "print(\"Number of columns (Training Set):\", num_cols_train)\n",
        "\n",
        "num_rows_test, num_cols_test = results_test.shape\n",
        "print(\"Number of rows (Testing Set):\", num_rows_test)\n",
        "print(\"Number of columns (Testing Set):\", num_cols_test)"
      ],
      "metadata": {
        "colab": {
          "base_uri": "https://localhost:8080/"
        },
        "id": "GEZsxj1hbTr6",
        "outputId": "ccb0f06e-7813-403e-bbb5-2614337839ec"
      },
      "execution_count": null,
      "outputs": [
        {
          "output_type": "stream",
          "name": "stdout",
          "text": [
            "Number of rows (Training Set): 9000\n",
            "Number of columns (Training Set): 4\n",
            "Number of rows (Testing Set): 976\n",
            "Number of columns (Testing Set): 5\n"
          ]
        }
      ]
    },
    {
      "cell_type": "code",
      "source": [
        "# Display the results dataframes with sentiment for the training set\n",
        "print(\"Results (Training Set):\")\n",
        "print(results_train.head(5))\n",
        "\n",
        "# Display the results dataframes with sentiment for the testing set\n",
        "print(\"Results (Testing Set):\")\n",
        "print(results_test.head(5))\n"
      ],
      "metadata": {
        "colab": {
          "base_uri": "https://localhost:8080/"
        },
        "id": "k-EIZBfTbYeQ",
        "outputId": "58e52cdc-8bb2-4d2e-93b0-4de5ebae0135"
      },
      "execution_count": null,
      "outputs": [
        {
          "output_type": "stream",
          "name": "stdout",
          "text": [
            "Results (Training Set):\n",
            "                                              review  Actual Rating  \\\n",
            "0  nice produt like design lot easy carry looked ...              5   \n",
            "1  awesome soundvery pretty see nd sound quality ...              5   \n",
            "2  awesome sound quality pro 78 hr battery life i...              4   \n",
            "3  think good product per quality also design qui...              5   \n",
            "4  awesome bass sound quality good bettary long l...              5   \n",
            "\n",
            "   Predicted Rating Sentiment  \n",
            "0          5.000290  positive  \n",
            "1          4.999394  positive  \n",
            "2          4.499949  positive  \n",
            "3          4.999894  positive  \n",
            "4          4.999399  positive  \n",
            "Results (Testing Set):\n",
            "                                                 review  Actual Rating  \\\n",
            "9000                                     super bassread              5   \n",
            "9001                                     excellent read              5   \n",
            "9002                   size reduced loooks like toyread              2   \n",
            "9003  doesnt work properly within 10 meter range blu...              3   \n",
            "9004                                           goodread              5   \n",
            "\n",
            "      Predicted Rating Sentiment Predicted Sentiment  \n",
            "9000          4.663754  positive            positive  \n",
            "9001          4.798585  positive            positive  \n",
            "9002          6.069090  positive            positive  \n",
            "9003          2.403442  positive            positive  \n",
            "9004          4.343643  positive            positive  \n"
          ]
        }
      ]
    },
    {
      "cell_type": "code",
      "source": [
        "results_train.head(5)\n"
      ],
      "metadata": {
        "colab": {
          "base_uri": "https://localhost:8080/",
          "height": 206
        },
        "id": "t7BaGO5cbdsQ",
        "outputId": "d239553c-9863-41df-ab14-a3c75a20310d"
      },
      "execution_count": null,
      "outputs": [
        {
          "output_type": "execute_result",
          "data": {
            "text/plain": [
              "                                              review  Actual Rating  \\\n",
              "0  nice produt like design lot easy carry looked ...              5   \n",
              "1  awesome soundvery pretty see nd sound quality ...              5   \n",
              "2  awesome sound quality pro 78 hr battery life i...              4   \n",
              "3  think good product per quality also design qui...              5   \n",
              "4  awesome bass sound quality good bettary long l...              5   \n",
              "\n",
              "   Predicted Rating Sentiment  \n",
              "0          5.000290  positive  \n",
              "1          4.999394  positive  \n",
              "2          4.499949  positive  \n",
              "3          4.999894  positive  \n",
              "4          4.999399  positive  "
            ],
            "text/html": [
              "\n",
              "  <div id=\"df-bca9582a-68bd-4153-9f59-d08c4ef08094\">\n",
              "    <div class=\"colab-df-container\">\n",
              "      <div>\n",
              "<style scoped>\n",
              "    .dataframe tbody tr th:only-of-type {\n",
              "        vertical-align: middle;\n",
              "    }\n",
              "\n",
              "    .dataframe tbody tr th {\n",
              "        vertical-align: top;\n",
              "    }\n",
              "\n",
              "    .dataframe thead th {\n",
              "        text-align: right;\n",
              "    }\n",
              "</style>\n",
              "<table border=\"1\" class=\"dataframe\">\n",
              "  <thead>\n",
              "    <tr style=\"text-align: right;\">\n",
              "      <th></th>\n",
              "      <th>review</th>\n",
              "      <th>Actual Rating</th>\n",
              "      <th>Predicted Rating</th>\n",
              "      <th>Sentiment</th>\n",
              "    </tr>\n",
              "  </thead>\n",
              "  <tbody>\n",
              "    <tr>\n",
              "      <th>0</th>\n",
              "      <td>nice produt like design lot easy carry looked ...</td>\n",
              "      <td>5</td>\n",
              "      <td>5.000290</td>\n",
              "      <td>positive</td>\n",
              "    </tr>\n",
              "    <tr>\n",
              "      <th>1</th>\n",
              "      <td>awesome soundvery pretty see nd sound quality ...</td>\n",
              "      <td>5</td>\n",
              "      <td>4.999394</td>\n",
              "      <td>positive</td>\n",
              "    </tr>\n",
              "    <tr>\n",
              "      <th>2</th>\n",
              "      <td>awesome sound quality pro 78 hr battery life i...</td>\n",
              "      <td>4</td>\n",
              "      <td>4.499949</td>\n",
              "      <td>positive</td>\n",
              "    </tr>\n",
              "    <tr>\n",
              "      <th>3</th>\n",
              "      <td>think good product per quality also design qui...</td>\n",
              "      <td>5</td>\n",
              "      <td>4.999894</td>\n",
              "      <td>positive</td>\n",
              "    </tr>\n",
              "    <tr>\n",
              "      <th>4</th>\n",
              "      <td>awesome bass sound quality good bettary long l...</td>\n",
              "      <td>5</td>\n",
              "      <td>4.999399</td>\n",
              "      <td>positive</td>\n",
              "    </tr>\n",
              "  </tbody>\n",
              "</table>\n",
              "</div>\n",
              "      <button class=\"colab-df-convert\" onclick=\"convertToInteractive('df-bca9582a-68bd-4153-9f59-d08c4ef08094')\"\n",
              "              title=\"Convert this dataframe to an interactive table.\"\n",
              "              style=\"display:none;\">\n",
              "        \n",
              "  <svg xmlns=\"http://www.w3.org/2000/svg\" height=\"24px\"viewBox=\"0 0 24 24\"\n",
              "       width=\"24px\">\n",
              "    <path d=\"M0 0h24v24H0V0z\" fill=\"none\"/>\n",
              "    <path d=\"M18.56 5.44l.94 2.06.94-2.06 2.06-.94-2.06-.94-.94-2.06-.94 2.06-2.06.94zm-11 1L8.5 8.5l.94-2.06 2.06-.94-2.06-.94L8.5 2.5l-.94 2.06-2.06.94zm10 10l.94 2.06.94-2.06 2.06-.94-2.06-.94-.94-2.06-.94 2.06-2.06.94z\"/><path d=\"M17.41 7.96l-1.37-1.37c-.4-.4-.92-.59-1.43-.59-.52 0-1.04.2-1.43.59L10.3 9.45l-7.72 7.72c-.78.78-.78 2.05 0 2.83L4 21.41c.39.39.9.59 1.41.59.51 0 1.02-.2 1.41-.59l7.78-7.78 2.81-2.81c.8-.78.8-2.07 0-2.86zM5.41 20L4 18.59l7.72-7.72 1.47 1.35L5.41 20z\"/>\n",
              "  </svg>\n",
              "      </button>\n",
              "      \n",
              "  <style>\n",
              "    .colab-df-container {\n",
              "      display:flex;\n",
              "      flex-wrap:wrap;\n",
              "      gap: 12px;\n",
              "    }\n",
              "\n",
              "    .colab-df-convert {\n",
              "      background-color: #E8F0FE;\n",
              "      border: none;\n",
              "      border-radius: 50%;\n",
              "      cursor: pointer;\n",
              "      display: none;\n",
              "      fill: #1967D2;\n",
              "      height: 32px;\n",
              "      padding: 0 0 0 0;\n",
              "      width: 32px;\n",
              "    }\n",
              "\n",
              "    .colab-df-convert:hover {\n",
              "      background-color: #E2EBFA;\n",
              "      box-shadow: 0px 1px 2px rgba(60, 64, 67, 0.3), 0px 1px 3px 1px rgba(60, 64, 67, 0.15);\n",
              "      fill: #174EA6;\n",
              "    }\n",
              "\n",
              "    [theme=dark] .colab-df-convert {\n",
              "      background-color: #3B4455;\n",
              "      fill: #D2E3FC;\n",
              "    }\n",
              "\n",
              "    [theme=dark] .colab-df-convert:hover {\n",
              "      background-color: #434B5C;\n",
              "      box-shadow: 0px 1px 3px 1px rgba(0, 0, 0, 0.15);\n",
              "      filter: drop-shadow(0px 1px 2px rgba(0, 0, 0, 0.3));\n",
              "      fill: #FFFFFF;\n",
              "    }\n",
              "  </style>\n",
              "\n",
              "      <script>\n",
              "        const buttonEl =\n",
              "          document.querySelector('#df-bca9582a-68bd-4153-9f59-d08c4ef08094 button.colab-df-convert');\n",
              "        buttonEl.style.display =\n",
              "          google.colab.kernel.accessAllowed ? 'block' : 'none';\n",
              "\n",
              "        async function convertToInteractive(key) {\n",
              "          const element = document.querySelector('#df-bca9582a-68bd-4153-9f59-d08c4ef08094');\n",
              "          const dataTable =\n",
              "            await google.colab.kernel.invokeFunction('convertToInteractive',\n",
              "                                                     [key], {});\n",
              "          if (!dataTable) return;\n",
              "\n",
              "          const docLinkHtml = 'Like what you see? Visit the ' +\n",
              "            '<a target=\"_blank\" href=https://colab.research.google.com/notebooks/data_table.ipynb>data table notebook</a>'\n",
              "            + ' to learn more about interactive tables.';\n",
              "          element.innerHTML = '';\n",
              "          dataTable['output_type'] = 'display_data';\n",
              "          await google.colab.output.renderOutput(dataTable, element);\n",
              "          const docLink = document.createElement('div');\n",
              "          docLink.innerHTML = docLinkHtml;\n",
              "          element.appendChild(docLink);\n",
              "        }\n",
              "      </script>\n",
              "    </div>\n",
              "  </div>\n",
              "  "
            ]
          },
          "metadata": {},
          "execution_count": 70
        }
      ]
    },
    {
      "cell_type": "code",
      "source": [
        "results_test.head(100)"
      ],
      "metadata": {
        "colab": {
          "base_uri": "https://localhost:8080/",
          "height": 424
        },
        "id": "0MAXubWOboDw",
        "outputId": "a712cc69-60ee-40ca-b78d-38acb611d91c"
      },
      "execution_count": null,
      "outputs": [
        {
          "output_type": "execute_result",
          "data": {
            "text/plain": [
              "                                                 review  Actual Rating  \\\n",
              "9000                                     super bassread              5   \n",
              "9001                                     excellent read              5   \n",
              "9002                   size reduced loooks like toyread              2   \n",
              "9003  doesnt work properly within 10 meter range blu...              3   \n",
              "9004                                           goodread              5   \n",
              "...                                                 ...            ...   \n",
              "9095                                           goodread              3   \n",
              "9096  little uncomfortable year headsound quality fa...              4   \n",
              "9097  good product u wan na like work continuously 6...              5   \n",
              "9098                                  good product read              5   \n",
              "9099                                        awesomeread              5   \n",
              "\n",
              "      Predicted Rating Sentiment Predicted Sentiment  \n",
              "9000          4.663754  positive            positive  \n",
              "9001          4.798585  positive            positive  \n",
              "9002          6.069090  positive            positive  \n",
              "9003          2.403442  positive            positive  \n",
              "9004          4.343643  positive            positive  \n",
              "...                ...       ...                 ...  \n",
              "9095          4.343643  positive            positive  \n",
              "9096          4.604833  negative            positive  \n",
              "9097          5.853565  positive            positive  \n",
              "9098          4.643770  positive            positive  \n",
              "9099          4.777608  positive            positive  \n",
              "\n",
              "[100 rows x 5 columns]"
            ],
            "text/html": [
              "\n",
              "  <div id=\"df-66468af8-8b97-4f9c-9120-45c51ca1891b\">\n",
              "    <div class=\"colab-df-container\">\n",
              "      <div>\n",
              "<style scoped>\n",
              "    .dataframe tbody tr th:only-of-type {\n",
              "        vertical-align: middle;\n",
              "    }\n",
              "\n",
              "    .dataframe tbody tr th {\n",
              "        vertical-align: top;\n",
              "    }\n",
              "\n",
              "    .dataframe thead th {\n",
              "        text-align: right;\n",
              "    }\n",
              "</style>\n",
              "<table border=\"1\" class=\"dataframe\">\n",
              "  <thead>\n",
              "    <tr style=\"text-align: right;\">\n",
              "      <th></th>\n",
              "      <th>review</th>\n",
              "      <th>Actual Rating</th>\n",
              "      <th>Predicted Rating</th>\n",
              "      <th>Sentiment</th>\n",
              "      <th>Predicted Sentiment</th>\n",
              "    </tr>\n",
              "  </thead>\n",
              "  <tbody>\n",
              "    <tr>\n",
              "      <th>9000</th>\n",
              "      <td>super bassread</td>\n",
              "      <td>5</td>\n",
              "      <td>4.663754</td>\n",
              "      <td>positive</td>\n",
              "      <td>positive</td>\n",
              "    </tr>\n",
              "    <tr>\n",
              "      <th>9001</th>\n",
              "      <td>excellent read</td>\n",
              "      <td>5</td>\n",
              "      <td>4.798585</td>\n",
              "      <td>positive</td>\n",
              "      <td>positive</td>\n",
              "    </tr>\n",
              "    <tr>\n",
              "      <th>9002</th>\n",
              "      <td>size reduced loooks like toyread</td>\n",
              "      <td>2</td>\n",
              "      <td>6.069090</td>\n",
              "      <td>positive</td>\n",
              "      <td>positive</td>\n",
              "    </tr>\n",
              "    <tr>\n",
              "      <th>9003</th>\n",
              "      <td>doesnt work properly within 10 meter range blu...</td>\n",
              "      <td>3</td>\n",
              "      <td>2.403442</td>\n",
              "      <td>positive</td>\n",
              "      <td>positive</td>\n",
              "    </tr>\n",
              "    <tr>\n",
              "      <th>9004</th>\n",
              "      <td>goodread</td>\n",
              "      <td>5</td>\n",
              "      <td>4.343643</td>\n",
              "      <td>positive</td>\n",
              "      <td>positive</td>\n",
              "    </tr>\n",
              "    <tr>\n",
              "      <th>...</th>\n",
              "      <td>...</td>\n",
              "      <td>...</td>\n",
              "      <td>...</td>\n",
              "      <td>...</td>\n",
              "      <td>...</td>\n",
              "    </tr>\n",
              "    <tr>\n",
              "      <th>9095</th>\n",
              "      <td>goodread</td>\n",
              "      <td>3</td>\n",
              "      <td>4.343643</td>\n",
              "      <td>positive</td>\n",
              "      <td>positive</td>\n",
              "    </tr>\n",
              "    <tr>\n",
              "      <th>9096</th>\n",
              "      <td>little uncomfortable year headsound quality fa...</td>\n",
              "      <td>4</td>\n",
              "      <td>4.604833</td>\n",
              "      <td>negative</td>\n",
              "      <td>positive</td>\n",
              "    </tr>\n",
              "    <tr>\n",
              "      <th>9097</th>\n",
              "      <td>good product u wan na like work continuously 6...</td>\n",
              "      <td>5</td>\n",
              "      <td>5.853565</td>\n",
              "      <td>positive</td>\n",
              "      <td>positive</td>\n",
              "    </tr>\n",
              "    <tr>\n",
              "      <th>9098</th>\n",
              "      <td>good product read</td>\n",
              "      <td>5</td>\n",
              "      <td>4.643770</td>\n",
              "      <td>positive</td>\n",
              "      <td>positive</td>\n",
              "    </tr>\n",
              "    <tr>\n",
              "      <th>9099</th>\n",
              "      <td>awesomeread</td>\n",
              "      <td>5</td>\n",
              "      <td>4.777608</td>\n",
              "      <td>positive</td>\n",
              "      <td>positive</td>\n",
              "    </tr>\n",
              "  </tbody>\n",
              "</table>\n",
              "<p>100 rows × 5 columns</p>\n",
              "</div>\n",
              "      <button class=\"colab-df-convert\" onclick=\"convertToInteractive('df-66468af8-8b97-4f9c-9120-45c51ca1891b')\"\n",
              "              title=\"Convert this dataframe to an interactive table.\"\n",
              "              style=\"display:none;\">\n",
              "        \n",
              "  <svg xmlns=\"http://www.w3.org/2000/svg\" height=\"24px\"viewBox=\"0 0 24 24\"\n",
              "       width=\"24px\">\n",
              "    <path d=\"M0 0h24v24H0V0z\" fill=\"none\"/>\n",
              "    <path d=\"M18.56 5.44l.94 2.06.94-2.06 2.06-.94-2.06-.94-.94-2.06-.94 2.06-2.06.94zm-11 1L8.5 8.5l.94-2.06 2.06-.94-2.06-.94L8.5 2.5l-.94 2.06-2.06.94zm10 10l.94 2.06.94-2.06 2.06-.94-2.06-.94-.94-2.06-.94 2.06-2.06.94z\"/><path d=\"M17.41 7.96l-1.37-1.37c-.4-.4-.92-.59-1.43-.59-.52 0-1.04.2-1.43.59L10.3 9.45l-7.72 7.72c-.78.78-.78 2.05 0 2.83L4 21.41c.39.39.9.59 1.41.59.51 0 1.02-.2 1.41-.59l7.78-7.78 2.81-2.81c.8-.78.8-2.07 0-2.86zM5.41 20L4 18.59l7.72-7.72 1.47 1.35L5.41 20z\"/>\n",
              "  </svg>\n",
              "      </button>\n",
              "      \n",
              "  <style>\n",
              "    .colab-df-container {\n",
              "      display:flex;\n",
              "      flex-wrap:wrap;\n",
              "      gap: 12px;\n",
              "    }\n",
              "\n",
              "    .colab-df-convert {\n",
              "      background-color: #E8F0FE;\n",
              "      border: none;\n",
              "      border-radius: 50%;\n",
              "      cursor: pointer;\n",
              "      display: none;\n",
              "      fill: #1967D2;\n",
              "      height: 32px;\n",
              "      padding: 0 0 0 0;\n",
              "      width: 32px;\n",
              "    }\n",
              "\n",
              "    .colab-df-convert:hover {\n",
              "      background-color: #E2EBFA;\n",
              "      box-shadow: 0px 1px 2px rgba(60, 64, 67, 0.3), 0px 1px 3px 1px rgba(60, 64, 67, 0.15);\n",
              "      fill: #174EA6;\n",
              "    }\n",
              "\n",
              "    [theme=dark] .colab-df-convert {\n",
              "      background-color: #3B4455;\n",
              "      fill: #D2E3FC;\n",
              "    }\n",
              "\n",
              "    [theme=dark] .colab-df-convert:hover {\n",
              "      background-color: #434B5C;\n",
              "      box-shadow: 0px 1px 3px 1px rgba(0, 0, 0, 0.15);\n",
              "      filter: drop-shadow(0px 1px 2px rgba(0, 0, 0, 0.3));\n",
              "      fill: #FFFFFF;\n",
              "    }\n",
              "  </style>\n",
              "\n",
              "      <script>\n",
              "        const buttonEl =\n",
              "          document.querySelector('#df-66468af8-8b97-4f9c-9120-45c51ca1891b button.colab-df-convert');\n",
              "        buttonEl.style.display =\n",
              "          google.colab.kernel.accessAllowed ? 'block' : 'none';\n",
              "\n",
              "        async function convertToInteractive(key) {\n",
              "          const element = document.querySelector('#df-66468af8-8b97-4f9c-9120-45c51ca1891b');\n",
              "          const dataTable =\n",
              "            await google.colab.kernel.invokeFunction('convertToInteractive',\n",
              "                                                     [key], {});\n",
              "          if (!dataTable) return;\n",
              "\n",
              "          const docLinkHtml = 'Like what you see? Visit the ' +\n",
              "            '<a target=\"_blank\" href=https://colab.research.google.com/notebooks/data_table.ipynb>data table notebook</a>'\n",
              "            + ' to learn more about interactive tables.';\n",
              "          element.innerHTML = '';\n",
              "          dataTable['output_type'] = 'display_data';\n",
              "          await google.colab.output.renderOutput(dataTable, element);\n",
              "          const docLink = document.createElement('div');\n",
              "          docLink.innerHTML = docLinkHtml;\n",
              "          element.appendChild(docLink);\n",
              "        }\n",
              "      </script>\n",
              "    </div>\n",
              "  </div>\n",
              "  "
            ]
          },
          "metadata": {},
          "execution_count": 73
        }
      ]
    },
    {
      "cell_type": "code",
      "source": [
        "import matplotlib.pyplot as plt\n",
        "\n",
        "# Count the number of positive and negative reviews\n",
        "sentiment_counts = results_test['Predicted Sentiment'].value_counts()\n",
        "\n",
        "# Create a bar plot\n",
        "plt.bar(sentiment_counts.index, sentiment_counts.values)\n",
        "plt.xlabel('Sentiment')\n",
        "plt.ylabel('Count')\n",
        "plt.title('Number of Positive and Negative Reviews')\n",
        "plt.show()"
      ],
      "metadata": {
        "colab": {
          "base_uri": "https://localhost:8080/",
          "height": 472
        },
        "id": "_svmUhqipyeD",
        "outputId": "a5f9b67f-f538-4d5c-cfc2-63102a84c381"
      },
      "execution_count": null,
      "outputs": [
        {
          "output_type": "display_data",
          "data": {
            "text/plain": [
              "<Figure size 640x480 with 1 Axes>"
            ],
            "image/png": "[encoded data removed]"
          },
          "metadata": {}
        }
      ]
    },
    {
      "cell_type": "markdown",
      "source": [
        "Named Entity **Recognization**"
      ],
      "metadata": {
        "id": "UtnVgHCZcVsX"
      }
    },
    {
      "cell_type": "code",
      "source": [
        "import pandas as pd\n",
        "import spacy\n",
        "\n",
        "# Load the spaCy English model\n",
        "nlp = spacy.load('en_core_web_sm')\n",
        "\n",
        "# Read the CSV file into a pandas DataFrame\n",
        "dataset = pd.read_csv('/content/drive/MyDrive/NLPFinal/flipkart_data.csv')\n",
        "\n",
        "# Select the first 10 documents\n",
        "subset = dataset['review'].head(10)\n",
        "\n",
        "# Create a new DataFrame to store the named entities\n",
        "entities_df = pd.DataFrame(columns=['Document', 'Named Entity', 'Category'])\n",
        "\n",
        "# Apply NER on each selected document and store the results in the DataFrame\n",
        "for i, review in enumerate(subset):\n",
        "    doc = nlp(review)\n",
        "    entities = []\n",
        "    categories = []\n",
        "    for entity in doc.ents:\n",
        "        entities.append(entity.text)\n",
        "        categories.append(entity.label_)\n",
        "    entities_df = entities_df.append(pd.DataFrame({'Document': f\"Document {i+1}\",\n",
        "                                                   'Named Entity': entities,\n",
        "                                                   'Category': categories}), ignore_index=True)\n",
        "\n",
        "# Display the DataFrame with named entities\n",
        "print(entities_df)"
      ],
      "metadata": {
        "colab": {
          "base_uri": "https://localhost:8080/"
        },
        "id": "6ir_asWFcX8e",
        "outputId": "52960087-9da7-42b0-fb42-a05cefd42077"
      },
      "execution_count": null,
      "outputs": [
        {
          "output_type": "stream",
          "name": "stdout",
          "text": [
            "       Document    Named Entity  Category\n",
            "0    Document 3             7-8  CARDINAL\n",
            "1    Document 3              45  CARDINAL\n",
            "2    Document 3            Bass    PERSON\n",
            "3    Document 3    3.25/5)3.5mm  QUANTITY\n",
            "4    Document 4         January      DATE\n",
            "5    Document 6           first   ORDINAL\n",
            "6    Document 6           first   ORDINAL\n",
            "7    Document 8        awesome2    PERSON\n",
            "8    Document 8        average3       ORG\n",
            "9    Document 8            Bass    PERSON\n",
            "10   Document 8               4  CARDINAL\n",
            "11   Document 8  Battery Backup       ORG\n",
            "12   Document 8           good5       GPE\n",
            "13   Document 8       Headphone       ORG\n",
            "14   Document 8            ear2   PRODUCT\n",
            "15   Document 8            Moto       ORG\n",
            "16   Document 9           First   ORDINAL\n",
            "17   Document 9            Bass    PERSON\n",
            "18   Document 9      9.5/10.The  CARDINAL\n",
            "19   Document 9      uncomforta    PERSON\n",
            "20  Document 10      Super Fine    PERSON\n",
            "21  Document 10           Sound       GPE\n"
          ]
        },
        {
          "output_type": "stream",
          "name": "stderr",
          "text": [
            "<ipython-input-66-4baf8f141811>:24: FutureWarning: The frame.append method is deprecated and will be removed from pandas in a future version. Use pandas.concat instead.\n",
            "  entities_df = entities_df.append(pd.DataFrame({'Document': f\"Document {i+1}\",\n",
            "<ipython-input-66-4baf8f141811>:24: FutureWarning: The frame.append method is deprecated and will be removed from pandas in a future version. Use pandas.concat instead.\n",
            "  entities_df = entities_df.append(pd.DataFrame({'Document': f\"Document {i+1}\",\n",
            "<ipython-input-66-4baf8f141811>:24: FutureWarning: The frame.append method is deprecated and will be removed from pandas in a future version. Use pandas.concat instead.\n",
            "  entities_df = entities_df.append(pd.DataFrame({'Document': f\"Document {i+1}\",\n",
            "<ipython-input-66-4baf8f141811>:24: FutureWarning: The frame.append method is deprecated and will be removed from pandas in a future version. Use pandas.concat instead.\n",
            "  entities_df = entities_df.append(pd.DataFrame({'Document': f\"Document {i+1}\",\n",
            "<ipython-input-66-4baf8f141811>:24: FutureWarning: The frame.append method is deprecated and will be removed from pandas in a future version. Use pandas.concat instead.\n",
            "  entities_df = entities_df.append(pd.DataFrame({'Document': f\"Document {i+1}\",\n",
            "<ipython-input-66-4baf8f141811>:24: FutureWarning: The frame.append method is deprecated and will be removed from pandas in a future version. Use pandas.concat instead.\n",
            "  entities_df = entities_df.append(pd.DataFrame({'Document': f\"Document {i+1}\",\n",
            "<ipython-input-66-4baf8f141811>:24: FutureWarning: The frame.append method is deprecated and will be removed from pandas in a future version. Use pandas.concat instead.\n",
            "  entities_df = entities_df.append(pd.DataFrame({'Document': f\"Document {i+1}\",\n",
            "<ipython-input-66-4baf8f141811>:24: FutureWarning: The frame.append method is deprecated and will be removed from pandas in a future version. Use pandas.concat instead.\n",
            "  entities_df = entities_df.append(pd.DataFrame({'Document': f\"Document {i+1}\",\n",
            "<ipython-input-66-4baf8f141811>:24: FutureWarning: The frame.append method is deprecated and will be removed from pandas in a future version. Use pandas.concat instead.\n",
            "  entities_df = entities_df.append(pd.DataFrame({'Document': f\"Document {i+1}\",\n",
            "<ipython-input-66-4baf8f141811>:24: FutureWarning: The frame.append method is deprecated and will be removed from pandas in a future version. Use pandas.concat instead.\n",
            "  entities_df = entities_df.append(pd.DataFrame({'Document': f\"Document {i+1}\",\n"
          ]
        }
      ]
    },
    {
      "cell_type": "markdown",
      "source": [
        "**Topic modeling**"
      ],
      "metadata": {
        "id": "HoxtYkFnczG8"
      }
    },
    {
      "cell_type": "code",
      "source": [
        "import pandas as pd\n",
        "from sklearn.feature_extraction.text import TfidfVectorizer\n",
        "from sklearn.decomposition import LatentDirichletAllocation\n",
        "\n",
        "# Read the CSV file\n",
        "df = pd.read_csv('/content/drive/MyDrive/NLPFinal/flipkart_data.csv')\n",
        "\n",
        "# Select the first 15 records\n",
        "df_first_15 = df.head(15)\n",
        "\n",
        "# Define the topics\n",
        "topics = [\n",
        "    \"Product Quality\",\n",
        "    \"Customer Service\",\n",
        "    \"Shipping and Delivery\",\n",
        "    \"Price and Value\",\n",
        "    \"Product Features and Specifications\",\n",
        "    \"Ease of Use\",\n",
        "    \"Product Performance\",\n",
        "    \"Compatibility and Interoperability\",\n",
        "    \"User Experience\",\n",
        "    \"Product Comparisons\",\n",
        "    \"Product Recommendations\",\n",
        "    \"Packaging and Presentation\",\n",
        "    \"Returns and Refunds\",\n",
        "    \"Product Complaints\",\n",
        "    \"Product Praises and Positive Experiences\"\n",
        "]\n",
        "\n",
        "# Preprocess the text data\n",
        "vectorizer = TfidfVectorizer(stop_words='english')\n",
        "X = vectorizer.fit_transform(df_first_15['review'])\n",
        "\n",
        "# Get the feature names\n",
        "feature_names = vectorizer.get_feature_names_out()\n",
        "\n",
        "# Apply Latent Dirichlet Allocation (LDA) for topic modeling\n",
        "lda = LatentDirichletAllocation(n_components=len(topics), random_state=42)\n",
        "lda.fit(X)\n",
        "\n",
        "# Print the top words for each topic\n",
        "for topic_idx, topic in enumerate(lda.components_):\n",
        "    top_words = [feature_names[i] for i in topic.argsort()[:-11:-1]]\n",
        "    print(f\"Topic {topic_idx + 1}: {', '.join(top_words)}\")\n",
        "\n",
        "# Assign the most probable topic to each document\n",
        "topic_predictions = lda.transform(X)\n",
        "df_first_15['Topic'] = topic_predictions.argmax(axis=1)\n",
        "df_first_15['Topic'] = df_first_15['Topic'].apply(lambda x: topics[x])\n",
        "\n",
        "# Create a dataframe with the Review and Topic columns\n",
        "df_output = df_first_15[['review', 'Topic']]\n",
        "\n",
        "# Print the dataframe\n",
        "df_output.head(5)"
      ],
      "metadata": {
        "colab": {
          "base_uri": "https://localhost:8080/",
          "height": 715
        },
        "id": "7HIzWJY4c6Vo",
        "outputId": "8e341b43-5942-4a1b-a724-ca1172564858"
      },
      "execution_count": null,
      "outputs": [
        {
          "output_type": "stream",
          "name": "stdout",
          "text": [
            "Topic 1: read, sound, bass, battery, quality, good, clear, ur, ears, design\n",
            "Topic 2: ears, sound, product, quality, bluetooth, read, awesome, nd, range, minutes\n",
            "Topic 3: really, equaliser, tight, sound, awesome, brands, adjusters, output, mention, option\n",
            "Topic 4: read, sound, bass, battery, quality, good, clear, ur, ears, design\n",
            "Topic 5: read, sound, bass, battery, quality, good, clear, ur, ears, design\n",
            "Topic 6: great, quality, song, bit, build, 10, headphone, really, like, sound\n",
            "Topic 7: read, sound, bass, battery, quality, good, clear, ur, ears, design\n",
            "Topic 8: lot, stylish, looked, easy, produt, carry, nice, design, like, read\n",
            "Topic 9: plays, away, volume, hear, wearing, headphones, like, incoming, imagine, connection\n",
            "Topic 10: good, product, lacking, help, sigh, relief, quite, think, pandamic, overall\n",
            "Topic 11: product, obviously, valuable, daut, guys, good, money, excellent, clear, really\n",
            "Topic 12: ear, use, quality, good, headphone, good5, puls, awesome2, charge, need\n",
            "Topic 13: purchase, rs, likeread, don, grateful, bettary, 999, forget, long, life\n",
            "Topic 14: nice, making, product, time, thanks, loved, excellent, bass, huge, powerful\n",
            "Topic 15: super, bassread, looking, power, fine, clear, good, sound, read, bass\n"
          ]
        },
        {
          "output_type": "stream",
          "name": "stderr",
          "text": [
            "<ipython-input-74-4cf281b1eb2a>:48: SettingWithCopyWarning: \n",
            "A value is trying to be set on a copy of a slice from a DataFrame.\n",
            "Try using .loc[row_indexer,col_indexer] = value instead\n",
            "\n",
            "See the caveats in the documentation: https://pandas.pydata.org/pandas-docs/stable/user_guide/indexing.html#returning-a-view-versus-a-copy\n",
            "  df_first_15['Topic'] = topic_predictions.argmax(axis=1)\n",
            "<ipython-input-74-4cf281b1eb2a>:49: SettingWithCopyWarning: \n",
            "A value is trying to be set on a copy of a slice from a DataFrame.\n",
            "Try using .loc[row_indexer,col_indexer] = value instead\n",
            "\n",
            "See the caveats in the documentation: https://pandas.pydata.org/pandas-docs/stable/user_guide/indexing.html#returning-a-view-versus-a-copy\n",
            "  df_first_15['Topic'] = df_first_15['Topic'].apply(lambda x: topics[x])\n"
          ]
        },
        {
          "output_type": "execute_result",
          "data": {
            "text/plain": [
              "                                              review  \\\n",
              "0  It was nice produt. I like it's design a lot. ...   \n",
              "1  awesome sound....very pretty to see this nd th...   \n",
              "2  awesome sound quality. pros 7-8 hrs of battery...   \n",
              "3  I think it is such a good product not only as ...   \n",
              "4  awesome bass sound quality very good bettary l...   \n",
              "\n",
              "                                Topic  \n",
              "0  Compatibility and Interoperability  \n",
              "1                    Customer Service  \n",
              "2               Shipping and Delivery  \n",
              "3                 Product Comparisons  \n",
              "4                 Returns and Refunds  "
            ],
            "text/html": [
              "\n",
              "  <div id=\"df-e59d45b2-f4b0-457b-9059-600d2afbe76b\">\n",
              "    <div class=\"colab-df-container\">\n",
              "      <div>\n",
              "<style scoped>\n",
              "    .dataframe tbody tr th:only-of-type {\n",
              "        vertical-align: middle;\n",
              "    }\n",
              "\n",
              "    .dataframe tbody tr th {\n",
              "        vertical-align: top;\n",
              "    }\n",
              "\n",
              "    .dataframe thead th {\n",
              "        text-align: right;\n",
              "    }\n",
              "</style>\n",
              "<table border=\"1\" class=\"dataframe\">\n",
              "  <thead>\n",
              "    <tr style=\"text-align: right;\">\n",
              "      <th></th>\n",
              "      <th>review</th>\n",
              "      <th>Topic</th>\n",
              "    </tr>\n",
              "  </thead>\n",
              "  <tbody>\n",
              "    <tr>\n",
              "      <th>0</th>\n",
              "      <td>It was nice produt. I like it's design a lot. ...</td>\n",
              "      <td>Compatibility and Interoperability</td>\n",
              "    </tr>\n",
              "    <tr>\n",
              "      <th>1</th>\n",
              "      <td>awesome sound....very pretty to see this nd th...</td>\n",
              "      <td>Customer Service</td>\n",
              "    </tr>\n",
              "    <tr>\n",
              "      <th>2</th>\n",
              "      <td>awesome sound quality. pros 7-8 hrs of battery...</td>\n",
              "      <td>Shipping and Delivery</td>\n",
              "    </tr>\n",
              "    <tr>\n",
              "      <th>3</th>\n",
              "      <td>I think it is such a good product not only as ...</td>\n",
              "      <td>Product Comparisons</td>\n",
              "    </tr>\n",
              "    <tr>\n",
              "      <th>4</th>\n",
              "      <td>awesome bass sound quality very good bettary l...</td>\n",
              "      <td>Returns and Refunds</td>\n",
              "    </tr>\n",
              "  </tbody>\n",
              "</table>\n",
              "</div>\n",
              "      <button class=\"colab-df-convert\" onclick=\"convertToInteractive('df-e59d45b2-f4b0-457b-9059-600d2afbe76b')\"\n",
              "              title=\"Convert this dataframe to an interactive table.\"\n",
              "              style=\"display:none;\">\n",
              "        \n",
              "  <svg xmlns=\"http://www.w3.org/2000/svg\" height=\"24px\"viewBox=\"0 0 24 24\"\n",
              "       width=\"24px\">\n",
              "    <path d=\"M0 0h24v24H0V0z\" fill=\"none\"/>\n",
              "    <path d=\"M18.56 5.44l.94 2.06.94-2.06 2.06-.94-2.06-.94-.94-2.06-.94 2.06-2.06.94zm-11 1L8.5 8.5l.94-2.06 2.06-.94-2.06-.94L8.5 2.5l-.94 2.06-2.06.94zm10 10l.94 2.06.94-2.06 2.06-.94-2.06-.94-.94-2.06-.94 2.06-2.06.94z\"/><path d=\"M17.41 7.96l-1.37-1.37c-.4-.4-.92-.59-1.43-.59-.52 0-1.04.2-1.43.59L10.3 9.45l-7.72 7.72c-.78.78-.78 2.05 0 2.83L4 21.41c.39.39.9.59 1.41.59.51 0 1.02-.2 1.41-.59l7.78-7.78 2.81-2.81c.8-.78.8-2.07 0-2.86zM5.41 20L4 18.59l7.72-7.72 1.47 1.35L5.41 20z\"/>\n",
              "  </svg>\n",
              "      </button>\n",
              "      \n",
              "  <style>\n",
              "    .colab-df-container {\n",
              "      display:flex;\n",
              "      flex-wrap:wrap;\n",
              "      gap: 12px;\n",
              "    }\n",
              "\n",
              "    .colab-df-convert {\n",
              "      background-color: #E8F0FE;\n",
              "      border: none;\n",
              "      border-radius: 50%;\n",
              "      cursor: pointer;\n",
              "      display: none;\n",
              "      fill: #1967D2;\n",
              "      height: 32px;\n",
              "      padding: 0 0 0 0;\n",
              "      width: 32px;\n",
              "    }\n",
              "\n",
              "    .colab-df-convert:hover {\n",
              "      background-color: #E2EBFA;\n",
              "      box-shadow: 0px 1px 2px rgba(60, 64, 67, 0.3), 0px 1px 3px 1px rgba(60, 64, 67, 0.15);\n",
              "      fill: #174EA6;\n",
              "    }\n",
              "\n",
              "    [theme=dark] .colab-df-convert {\n",
              "      background-color: #3B4455;\n",
              "      fill: #D2E3FC;\n",
              "    }\n",
              "\n",
              "    [theme=dark] .colab-df-convert:hover {\n",
              "      background-color: #434B5C;\n",
              "      box-shadow: 0px 1px 3px 1px rgba(0, 0, 0, 0.15);\n",
              "      filter: drop-shadow(0px 1px 2px rgba(0, 0, 0, 0.3));\n",
              "      fill: #FFFFFF;\n",
              "    }\n",
              "  </style>\n",
              "\n",
              "      <script>\n",
              "        const buttonEl =\n",
              "          document.querySelector('#df-e59d45b2-f4b0-457b-9059-600d2afbe76b button.colab-df-convert');\n",
              "        buttonEl.style.display =\n",
              "          google.colab.kernel.accessAllowed ? 'block' : 'none';\n",
              "\n",
              "        async function convertToInteractive(key) {\n",
              "          const element = document.querySelector('#df-e59d45b2-f4b0-457b-9059-600d2afbe76b');\n",
              "          const dataTable =\n",
              "            await google.colab.kernel.invokeFunction('convertToInteractive',\n",
              "                                                     [key], {});\n",
              "          if (!dataTable) return;\n",
              "\n",
              "          const docLinkHtml = 'Like what you see? Visit the ' +\n",
              "            '<a target=\"_blank\" href=https://colab.research.google.com/notebooks/data_table.ipynb>data table notebook</a>'\n",
              "            + ' to learn more about interactive tables.';\n",
              "          element.innerHTML = '';\n",
              "          dataTable['output_type'] = 'display_data';\n",
              "          await google.colab.output.renderOutput(dataTable, element);\n",
              "          const docLink = document.createElement('div');\n",
              "          docLink.innerHTML = docLinkHtml;\n",
              "          element.appendChild(docLink);\n",
              "        }\n",
              "      </script>\n",
              "    </div>\n",
              "  </div>\n",
              "  "
            ]
          },
          "metadata": {},
          "execution_count": 74
        }
      ]
    }
  ]
}